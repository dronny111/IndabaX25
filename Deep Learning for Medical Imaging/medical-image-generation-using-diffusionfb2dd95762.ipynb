{
 "cells": [
  {
   "cell_type": "markdown",
   "id": "565d0e3e",
   "metadata": {
    "id": "nxLWNsrydEIG",
    "papermill": {
     "duration": 0.015066,
     "end_time": "2025-05-26T16:51:05.241584",
     "exception": false,
     "start_time": "2025-05-26T16:51:05.226518",
     "status": "completed"
    },
    "tags": []
   },
   "source": [
    "# **Medical Image Generation with Diffusion Models**"
   ]
  },
  {
   "cell_type": "markdown",
   "id": "e6bdd44f",
   "metadata": {},
   "source": [
    "## Review Summary\n",
    "\n",
    "Overall, this is an excellent tutorial guide.\n",
    "\n",
    "I'd like to propose a few possible additions\n",
    "\n",
    "# Intro\n",
    "\n",
    "I understand DDPM is the focus here, are there alternative diffusion models like DDPM that you can also introduce?\n",
    "\n",
    "# Prerequisites\n",
    "\n",
    "Pytorch is the framework of consideration here ; do you consider talking a bit about Monai which is not only built ontop of Pytorch but also health-focused and broadly supports variety of pretrained medical imaging diffusion models ?\n",
    "\n",
    "# Dataset Preparation\n",
    "\n",
    "- Do you want to briefly explain what the medical mnist dataset is ?\n",
    "- \n",
    "# Coding the Diffusion Models\n",
    "\n",
    "# Training\n",
    "\n",
    "\n",
    "# Testing\n",
    "\n",
    "\n",
    "# Inference\n",
    "\n",
    "\n",
    "# Reference\n",
    "\n",
    "Adding a possible reference section can potentially help learners, especially beginners to quickly retrieve extra info to consolidate their understanding"
   ]
  },
  {
   "cell_type": "markdown",
   "id": "b1a38d15-9bfb-4886-a8e5-1766061b54f4",
   "metadata": {},
   "source": [
    "## Table of Contents\n",
    "1. [Introduction to Diffusion Models](#introduction)\n",
    "2. [Prerequisites](#prerequisites)\n",
    "3. [Dataset Preparation](#dataset)\n",
    "4. [Coding the Diffusion Model](#coding-diffusion)\n",
    "5. [Training](#training)\n",
    "6. [Testing](#testing)\n",
    "7. [Inference](#inference)"
   ]
  },
  {
   "cell_type": "markdown",
   "id": "56f116ff-9de9-42fe-9103-7339d2430c27",
   "metadata": {},
   "source": [
    "## 🧪 Introduction to Diffusion Models\n",
    "<a id=\"introduction\"></a>\n",
    "\n",
    "In recent years, **diffusion models** have emerged as a powerful class of generative models, rivaling and even surpassing traditional methods like GANs and VAEs in image synthesis tasks. These models generate high-quality images by learning to gradually reverse a noise process—starting from random noise and iteratively denoising it to recover realistic data samples.\n",
    "\n",
    "This notebook will walk you through the **foundational components of a basic diffusion model**, starting from the **forward noising process**, moving to the **denoising network architecture**, and finally arriving at the **sampling process** used to generate new images. You will get hands-on experience coding the key parts of a DDPM (Denoising Diffusion Probabilistic Model), helping you build both intuition and implementation skills.\n",
    "\n",
    "We'll begin with a refresher on earlier generative models like GANs and VAEs, and then progressively build toward training a basic diffusion model that can generate images from scratch.\n",
    "\n",
    "By the end of this session, you will have:\n",
    "- Understood the theoretical principles behind diffusion models.\n",
    "- Implemented core components such as the noise scheduler and denoising network.\n",
    "- Trained a model to generate new samples.\n",
    "- Explored possible extensions, such as class-conditioning and improved sampling strategies.\n",
    "\n",
    "> Let's dive into the world of generative AI—one noisy step at a time!"
   ]
  },
  {
   "cell_type": "markdown",
   "id": "7d137b70-9c5d-4701-9e66-9cbb19707b12",
   "metadata": {},
   "source": [
    "## 📚 Prerequisites\n",
    "<a id=\"prerequisites\"></a>\n",
    "\n",
    "Before we begin building diffusion models, it’s important to ensure you're comfortable with the following concepts and tools. This will help you follow along and get the most out of the hands-on coding experience.\n",
    "\n",
    "### ✅ Technical Knowledge\n",
    "- **Basic understanding of neural networks** and deep learning workflows.\n",
    "- Familiarity with **convolutional neural networks (CNNs)**.\n",
    "- Knowledge of **PyTorch** (especially `nn.Module`, data loaders, training loops).\n",
    "- Understanding of **loss functions** like MSE, and optimizers like Adam.\n",
    "\n",
    "### 🧠 Conceptual Foundations\n",
    "- What are **generative models**? (How they learn to model a data distribution)\n",
    "- Basic knowledge of **GANs (Generative Adversarial Networks)** and **VAEs (Variational Autoencoders)**.\n",
    "- Familiarity with **probability distributions** (especially Gaussian/Normal distributions).\n",
    "- Concept of **adding noise** to data and recovering it through learning.\n",
    "\n",
    "If you're not familiar with some of these, don't worry—brief refreshers will be provided along the way.\n",
    "\n",
    "> Let’s now take a quick look at traditional generative models (GANs and VAEs) before introducing diffusion models.\n"
   ]
  },
  {
   "cell_type": "markdown",
   "id": "bf36ca06-1b86-4d15-b37b-9faf9a48e626",
   "metadata": {},
   "source": [
    "## Building Diffusion Models\n",
    "### Code Implementation"
   ]
  },
  {
   "cell_type": "markdown",
   "id": "88927972-9311-4fa5-bdf7-addbecd78bb1",
   "metadata": {},
   "source": [
    "### Setting Up\n",
    "* Install and import required libraries\n",
    "* Define utility function to enable us visualize images\n",
    "* Define important variables"
   ]
  },
  {
   "cell_type": "code",
   "execution_count": 2,
   "id": "83f578d6",
   "metadata": {
    "execution": {
     "iopub.execute_input": "2025-05-26T22:00:11.729919Z",
     "iopub.status.busy": "2025-05-26T22:00:11.729502Z",
     "iopub.status.idle": "2025-05-26T22:00:17.146827Z",
     "shell.execute_reply": "2025-05-26T22:00:17.144990Z",
     "shell.execute_reply.started": "2025-05-26T22:00:11.729876Z"
    },
    "papermill": {
     "duration": 203.854755,
     "end_time": "2025-05-26T16:54:29.138879",
     "exception": false,
     "start_time": "2025-05-26T16:51:05.284124",
     "status": "completed"
    },
    "tags": [],
    "trusted": true
   },
   "outputs": [],
   "source": [
    "# Install required Python packages using pip.\n",
    "# - lightning: for building and training PyTorch models easily\n",
    "# - torchmetrics: to calculate performance metrics like accuracy, FID, etc.\n",
    "# - torch-fidelity: for evaluating generative models (e.g., FID score)\n",
    "\n",
    "# Note: '--no-cache-dir' prevents using cached versions of the packages\n",
    "!pip install -q --no-cache-dir lightning torchmetrics torch-fidelity"
   ]
  },
  {
   "cell_type": "code",
   "execution_count": 32,
   "id": "5758fada",
   "metadata": {
    "execution": {
     "iopub.execute_input": "2025-05-26T22:08:57.597103Z",
     "iopub.status.busy": "2025-05-26T22:08:57.595704Z",
     "iopub.status.idle": "2025-05-26T22:08:57.608660Z",
     "shell.execute_reply": "2025-05-26T22:08:57.607489Z",
     "shell.execute_reply.started": "2025-05-26T22:08:57.597057Z"
    },
    "papermill": {
     "duration": 0.121395,
     "end_time": "2025-05-26T16:54:29.273322",
     "exception": true,
     "start_time": "2025-05-26T16:54:29.151927",
     "status": "failed"
    },
    "tags": [],
    "trusted": true
   },
   "outputs": [],
   "source": [
    "# Import Lightning and PyTorch Lightning utilities\n",
    "import lightning as L\n",
    "from lightning.pytorch import Trainer, seed_everything\n",
    "from lightning.pytorch.callbacks import ModelCheckpoint  # For saving the best model\n",
    "\n",
    "# Import FID metric from TorchMetrics to evaluate generative models\n",
    "from torchmetrics.image.fid import FrechetInceptionDistance\n",
    "\n",
    "# Import a helper from Google Colab to display images with OpenCV\n",
    "from google.colab.patches import cv2_imshow\n",
    "\n",
    "# Import core PyTorch libraries\n",
    "import torch\n",
    "import torch.nn as nn  # For defining neural networks\n",
    "import torch.optim as optim  # For optimization algorithms like Adam\n",
    "import torch.utils.data as data  # For data loading and batching\n",
    "import torch.nn.functional as F  # For functions like relu, softmax, etc.\n",
    "\n",
    "# Import torchvision tools for data transformation and augmentation\n",
    "import torchvision.transforms as transforms\n",
    "from torchvision.transforms import Compose, ToTensor, Lambda, ToPILImage, Resize\n",
    "\n",
    "# PIL for image handling\n",
    "from PIL import Image\n",
    "\n",
    "# tqdm for showing progress bars\n",
    "from tqdm.auto import tqdm\n",
    "\n",
    "# Numpy and matplotlib for numerical operations and visualization\n",
    "import numpy as np\n",
    "import matplotlib.pyplot as plt\n",
    "\n",
    "# Standard libraries\n",
    "import os\n",
    "import cv2\n",
    "import random\n",
    "import math\n",
    "\n",
    "# Ignore warning messages to keep the output clean\n",
    "import warnings\n",
    "warnings.filterwarnings(\"ignore\")\n",
    "\n",
    "# Plot settings: inline display and aesthetic customization\n",
    "%matplotlib inline\n",
    "plt.rcParams['axes.facecolor'] = 'lightgray'  # Set background color of plots\n",
    "plt.rcParams['mathtext.fontset'] = 'cm'  # Use Computer Modern font for math\n",
    "plt.rcParams['font.family'] = 'STIXGeneral'  # Use STIX font for consistency"
   ]
  },
  {
   "cell_type": "code",
   "execution_count": 4,
   "id": "21f9c94b",
   "metadata": {
    "execution": {
     "iopub.execute_input": "2025-05-26T22:00:44.576321Z",
     "iopub.status.busy": "2025-05-26T22:00:44.575709Z",
     "iopub.status.idle": "2025-05-26T22:00:44.583188Z",
     "shell.execute_reply": "2025-05-26T22:00:44.582258Z",
     "shell.execute_reply.started": "2025-05-26T22:00:44.576291Z"
    },
    "papermill": {
     "duration": null,
     "end_time": null,
     "exception": null,
     "start_time": null,
     "status": "pending"
    },
    "tags": [],
    "trusted": true
   },
   "outputs": [],
   "source": [
    "def show_tensor_image(image):\n",
    "    # Define a series of reverse transforms to convert a normalized tensor image\n",
    "    # back to a format that can be displayed as a proper image\n",
    "    reverse_transforms = Compose([\n",
    "        # Undo normalization from [-1, 1] to [0, 1]\n",
    "        Lambda(lambda t: (t + 1) / 2),\n",
    "\n",
    "        # Change shape from [C, H, W] to [H, W, C] for display\n",
    "        Lambda(lambda t: t.permute(1, 2, 0)),\n",
    "\n",
    "        # Scale pixel values from [0, 1] to [0, 255]\n",
    "        Lambda(lambda t: t * 255.),\n",
    "\n",
    "        # Move tensor to CPU, convert to NumPy array, and change dtype to uint8 for image display\n",
    "        Lambda(lambda t: t.cpu().numpy().astype(np.uint8)),\n",
    "\n",
    "        # Convert the NumPy array to a PIL Image\n",
    "        ToPILImage(),\n",
    "\n",
    "        # Resize the image to a fixed size (e.g., for consistent display)\n",
    "        Resize(IMAGE_SIZE),\n",
    "    ])\n",
    "\n",
    "    # If the input is a batch of images (4D tensor), take the first one only\n",
    "    if len(image.shape) == 4:\n",
    "        image = image[0, :, :, :]  # Select the first image in the batch\n",
    "\n",
    "    # Turn off axis labels and ticks\n",
    "    plt.axis('off')\n",
    "\n",
    "    # Apply reverse transforms and display the image using matplotlib\n",
    "    plt.imshow(reverse_transforms(image))\n"
   ]
  },
  {
   "cell_type": "code",
   "execution_count": 5,
   "id": "8526b02d",
   "metadata": {
    "execution": {
     "iopub.execute_input": "2025-05-26T22:00:44.585509Z",
     "iopub.status.busy": "2025-05-26T22:00:44.585131Z",
     "iopub.status.idle": "2025-05-26T22:00:44.591713Z",
     "shell.execute_reply": "2025-05-26T22:00:44.590146Z",
     "shell.execute_reply.started": "2025-05-26T22:00:44.585479Z"
    },
    "executionInfo": {
     "elapsed": 25,
     "status": "ok",
     "timestamp": 1747755891211,
     "user": {
      "displayName": "Joshua Tettey Teye",
      "userId": "03989818565665752308"
     },
     "user_tz": 0
    },
    "id": "WCjIc6r__B8G",
    "papermill": {
     "duration": null,
     "end_time": null,
     "exception": null,
     "start_time": null,
     "status": "pending"
    },
    "tags": [],
    "trusted": true
   },
   "outputs": [],
   "source": [
    "MAX_EPOCH = 30\n",
    "DIFFUSION_STEP = 1000\n",
    "BATCH_SIZE = 20\n",
    "LR = 3e-4\n",
    "CHECKPOINT_DIR = os.getcwd()\n",
    "IMAGE_SIZE = 48\n",
    "SCALE_DOWN = 2\n",
    "N_CHANNEL = 3 #INFO[FLAG]['n_channels']\n",
    "BETA_START = 1e-4\n",
    "BETA_END = 2e-2\n",
    "N_CLASSES = 2# len(INFO[FLAG]['label'])"
   ]
  },
  {
   "cell_type": "markdown",
   "id": "6acbf373-7b9b-4c68-9e2c-118d60083fee",
   "metadata": {},
   "source": [
    "## 🗂️ Dataset Preparation"
   ]
  },
  {
   "cell_type": "markdown",
   "id": "7463d04b-3390-46b4-a26b-9b547f94d86f",
   "metadata": {},
   "source": [
    "### 📥 Adding the Medical MNIST Dataset to Your Kaggle Notebook\n",
    "\n",
    "Before we begin training our model, we need to make sure the **Medical MNIST** dataset is available in our working environment.\n",
    "\n",
    "Since we're using **Kaggle Notebooks**, adding a dataset is straightforward and does not require any download or upload. Follow the steps below:\n",
    "\n",
    "#### ✅ Steps to Add the Dataset from the Notebook\n",
    "\n",
    "1. **Open Your Kaggle Notebook**\n",
    "   Make sure you're inside the notebook you'll be working in.\n",
    "\n",
    "2. **Click on the “Add Input” Panel**\n",
    "   - Look to the **right side** of your notebook interface.\n",
    "   - You’ll see a sidebar labeled **“Input,” “Output,” “Table of Contents,” etc.**\n",
    "   - Click on the **“+ Add Input”** button under the **“Input”** tab.\n",
    "\n",
    "3. **Search for the Dataset**\n",
    "   - In the search box that appears, type:  \n",
    "     ```\n",
    "     medical mnist\n",
    "     ```\n",
    "   - Locate the dataset titled **“Medical MNIST”** (uploaded by `Larxel`).\n",
    "\n",
    "4. **Attach the Dataset**\n",
    "   - Click the **“Add” (+)** button next to the dataset name.\n",
    "   - This will attach the dataset to your notebook under the `/kaggle/input/` directory.\n"
   ]
  },
  {
   "cell_type": "markdown",
   "id": "90e37948",
   "metadata": {
    "id": "PrhyQrbmdFCQ",
    "papermill": {
     "duration": null,
     "end_time": null,
     "exception": null,
     "start_time": null,
     "status": "pending"
    },
    "tags": []
   },
   "source": [
    "### Processing the Dataset\n",
    "In this section, we’ll walk through how to **prepare a custom dataset** for training a conditional diffusion model. The goal is to allow our model to learn to generate images from specific classes — *Chest* vs *Hand* X-ray images.\n",
    "\n",
    "1. **Image Preprocessing**  \n",
    "   We'll define a transformation pipeline that resizes, normalizes, and converts the images into tensors. This ensures that all images are in the same format and scale before being fed into our model.\n",
    "\n",
    "2. **Label Formatting (One-Hot Encoding)**  \n",
    "   Since we’re working with two classes and using a class-conditioned diffusion model, we’ll convert each class label into a **one-hot encoded tensor**. This allows the model to receive class information in a structured and consistent format during training.\n",
    "\n",
    "3. **Custom Dataset Class**  \n",
    "   To have more control over which classes are loaded from a dataset, we’ll build a **custom dataset class** by extending `torchvision.datasets.DatasetFolder`. This will allow us to:\n",
    "   - Filter and load only specific subfolders (i.e., only the desired classes),\n",
    "   - Apply our transformations,\n",
    "   - Return both the image and its corresponding one-hot encoded label.\n"
   ]
  },
  {
   "cell_type": "code",
   "execution_count": 6,
   "id": "0881fae5",
   "metadata": {
    "execution": {
     "iopub.execute_input": "2025-05-26T22:00:44.593144Z",
     "iopub.status.busy": "2025-05-26T22:00:44.592866Z",
     "iopub.status.idle": "2025-05-26T22:00:44.599148Z",
     "shell.execute_reply": "2025-05-26T22:00:44.597841Z",
     "shell.execute_reply.started": "2025-05-26T22:00:44.593121Z"
    },
    "papermill": {
     "duration": null,
     "end_time": null,
     "exception": null,
     "start_time": null,
     "status": "pending"
    },
    "tags": [],
    "trusted": true
   },
   "outputs": [],
   "source": [
    "# Define a transformation pipeline to preprocess images before feeding them into a model\n",
    "image_transform = Compose([\n",
    "    # Resize the image to a fixed size (IMAGE_SIZE x IMAGE_SIZE)\n",
    "    Resize((IMAGE_SIZE, IMAGE_SIZE)),\n",
    "\n",
    "    # Convert the image from PIL or numpy format to a PyTorch tensor\n",
    "    # This also scales pixel values from [0, 255] to [0.0, 1.0]\n",
    "    ToTensor(),\n",
    "\n",
    "    # Normalize the tensor values from [0.0, 1.0] to [-1.0, 1.0]\n",
    "    Lambda(lambda x: (x * 2) - 1),\n",
    "])\n"
   ]
  },
  {
   "cell_type": "code",
   "execution_count": 7,
   "id": "c91ce3cc",
   "metadata": {
    "execution": {
     "iopub.execute_input": "2025-05-26T22:00:44.600838Z",
     "iopub.status.busy": "2025-05-26T22:00:44.600456Z",
     "iopub.status.idle": "2025-05-26T22:00:44.605976Z",
     "shell.execute_reply": "2025-05-26T22:00:44.604947Z",
     "shell.execute_reply.started": "2025-05-26T22:00:44.600805Z"
    },
    "papermill": {
     "duration": null,
     "end_time": null,
     "exception": null,
     "start_time": null,
     "status": "pending"
    },
    "tags": [],
    "trusted": true
   },
   "outputs": [],
   "source": [
    "# This function converts a class label into a one-hot encoded tensor with 2 classes\n",
    "def one_hot_encode(label):\n",
    "    # Convert the label (e.g., 0 or 1) to a PyTorch tensor\n",
    "    # Then apply one-hot encoding with 2 classes (e.g., [1, 0] for class 0, [0, 1] for class 1)\n",
    "    return F.one_hot(torch.tensor(label), num_classes=2).float()\n"
   ]
  },
  {
   "cell_type": "code",
   "execution_count": null,
   "id": "343de6cc",
   "metadata": {
    "execution": {
     "iopub.execute_input": "2025-05-26T22:00:44.607517Z",
     "iopub.status.busy": "2025-05-26T22:00:44.607080Z",
     "iopub.status.idle": "2025-05-26T22:00:44.616698Z",
     "shell.execute_reply": "2025-05-26T22:00:44.615653Z",
     "shell.execute_reply.started": "2025-05-26T22:00:44.607483Z"
    },
    "papermill": {
     "duration": null,
     "end_time": null,
     "exception": null,
     "start_time": null,
     "status": "pending"
    },
    "tags": [],
    "trusted": true
   },
   "outputs": [],
   "source": [
    "from torchvision.datasets import DatasetFolder\n",
    "from torchvision.datasets.folder import default_loader\n",
    "from typing import List, Tuple, Dict\n",
    "import os\n",
    "\n",
    "# A custom dataset class that extends torchvision's DatasetFolder\n",
    "# It filters and loads only images from specified subfolders (i.e., desired classes)\n",
    "class CustomImageFolder(DatasetFolder):\n",
    "    def __init__(\n",
    "        self,\n",
    "        root: str,                          # Root directory containing class-named folders\n",
    "        desired_classes: List[str],         # List of class folder names to include\n",
    "        transform=None,                     # Optional image transformations\n",
    "        target_transform=None,              # Optional label transformations\n",
    "        loader=default_loader,              # Function to load an image file\n",
    "        is_valid_file=None                  # Optional custom file filter\n",
    "    ):\n",
    "        self.desired_classes = desired_classes  # Store desired class names\n",
    "        # Call the parent DatasetFolder constructor with appropriate settings\n",
    "        super().__init__(\n",
    "            root,\n",
    "            loader,\n",
    "            extensions=('jpg', 'jpeg', 'png'),  # Allowed image formats\n",
    "            transform=transform,\n",
    "            target_transform=target_transform,\n",
    "            is_valid_file=is_valid_file\n",
    "        )\n",
    "\n",
    "    def find_classes(self, directory: str) -> Tuple[List[str], Dict[str, int]]:\n",
    "        \"\"\"\n",
    "        Override the default class discovery to include only desired classes.\n",
    "\n",
    "        Args:\n",
    "            directory (str): Path to the root dataset directory.\n",
    "\n",
    "        Returns:\n",
    "            classes (List[str]): List of selected class folder names.\n",
    "            class_to_idx (Dict[str, int]): Mapping from class names to indices.\n",
    "        \"\"\"\n",
    "        # Scan the dataset directory and list all subfolders\n",
    "        all_classes = sorted(entry.name for entry in os.scandir(directory) if entry.is_dir())\n",
    "\n",
    "        # Filter only those that match the desired_classes list\n",
    "        classes = [cls for cls in all_classes if cls in self.desired_classes]\n",
    "\n",
    "        # Raise an error if none of the desired classes were found\n",
    "        if not classes:\n",
    "            raise FileNotFoundError(\n",
    "                f\"No matching class folders found in {directory}. \"\n",
    "                f\"Available: {all_classes}\"\n",
    "            )\n",
    "\n",
    "        # Create a dictionary mapping class names to integer indices\n",
    "        class_to_idx = {cls_name: i for i, cls_name in enumerate(classes)}\n",
    "\n",
    "        return classes, class_to_idx"
   ]
  },
  {
   "cell_type": "code",
   "execution_count": 10,
   "id": "99aad484",
   "metadata": {
    "execution": {
     "iopub.execute_input": "2025-05-26T22:01:41.017500Z",
     "iopub.status.busy": "2025-05-26T22:01:41.017103Z",
     "iopub.status.idle": "2025-05-26T22:02:23.967006Z",
     "shell.execute_reply": "2025-05-26T22:02:23.965791Z",
     "shell.execute_reply.started": "2025-05-26T22:01:41.017473Z"
    },
    "papermill": {
     "duration": null,
     "end_time": null,
     "exception": null,
     "start_time": null,
     "status": "pending"
    },
    "tags": [],
    "trusted": true
   },
   "outputs": [],
   "source": [
    "dataset = CustomImageFolder(\n",
    "    root=\"/kaggle/input/medical-mnist\",        # Path to the root directory of the dataset.\n",
    "                                                # This directory should contain subfolders named after class labels (e.g., \"CXR\", \"Hand\", etc.)\n",
    "\n",
    "    desired_classes=[\"CXR\", \"Hand\"],            # Only include images from the \"CXR\" and \"Hand\" subfolders (i.e., filter by desired classes).\n",
    "\n",
    "    transform=image_transform,                  # Apply preprocessing to each image:\n",
    "                                                # - Resize to IMAGE_SIZE x IMAGE_SIZE\n",
    "                                                # - Convert to tensor\n",
    "                                                # - Normalize from [0, 1] to [-1, 1]\n",
    "\n",
    "    target_transform=one_hot_encode             # Apply one-hot encoding to the class label (e.g., 0 -> [1, 0], 1 -> [0, 1])\n",
    ")\n"
   ]
  },
  {
   "cell_type": "code",
   "execution_count": 11,
   "id": "43cab0a2",
   "metadata": {
    "execution": {
     "iopub.execute_input": "2025-05-26T22:02:23.969323Z",
     "iopub.status.busy": "2025-05-26T22:02:23.969009Z",
     "iopub.status.idle": "2025-05-26T22:02:23.974546Z",
     "shell.execute_reply": "2025-05-26T22:02:23.973614Z",
     "shell.execute_reply.started": "2025-05-26T22:02:23.969301Z"
    },
    "papermill": {
     "duration": null,
     "end_time": null,
     "exception": null,
     "start_time": null,
     "status": "pending"
    },
    "tags": [],
    "trusted": true
   },
   "outputs": [
    {
     "name": "stdout",
     "output_type": "stream",
     "text": [
      "['CXR', 'Hand']\n",
      "{'CXR': 0, 'Hand': 1}\n"
     ]
    }
   ],
   "source": [
    "# Print the list of class folder names included in the dataset\n",
    "# This will only include the classes specified in 'desired_classes' (e.g., ['CXR', 'Hand'])\n",
    "print(dataset.classes)\n",
    "\n",
    "# Print the mapping of class names to numerical indices\n",
    "# This dictionary is used internally to assign numeric labels to each class\n",
    "print(dataset.class_to_idx)\n"
   ]
  },
  {
   "cell_type": "code",
   "execution_count": 12,
   "id": "21441940",
   "metadata": {
    "execution": {
     "iopub.execute_input": "2025-05-26T22:02:23.975642Z",
     "iopub.status.busy": "2025-05-26T22:02:23.975404Z",
     "iopub.status.idle": "2025-05-26T22:02:23.990714Z",
     "shell.execute_reply": "2025-05-26T22:02:23.989734Z",
     "shell.execute_reply.started": "2025-05-26T22:02:23.975624Z"
    },
    "papermill": {
     "duration": null,
     "end_time": null,
     "exception": null,
     "start_time": null,
     "status": "pending"
    },
    "tags": [],
    "trusted": true
   },
   "outputs": [
    {
     "name": "stdout",
     "output_type": "stream",
     "text": [
      "Class: CXR, Count: 10000\n",
      "Class: Hand, Count: 10000\n"
     ]
    }
   ],
   "source": [
    "# Count the number of samples per class in the dataset\n",
    "# dataset.targets is a list of class indices for each image (e.g., [0, 0, 1, 0, 1, 1, ...])\n",
    "class_counts = torch.bincount(torch.tensor(dataset.targets))\n",
    "\n",
    "# Loop through each class and print its name and corresponding image count\n",
    "for i, count in enumerate(class_counts):\n",
    "    # dataset.classes[i] gets the class name (e.g., 'CXR' or 'Hand')\n",
    "    # count.item() gets the number of images for that class\n",
    "    print(f\"Class: {dataset.classes[i]}, Count: {count.item()}\")\n"
   ]
  },
  {
   "cell_type": "code",
   "execution_count": 13,
   "id": "3123f830",
   "metadata": {
    "execution": {
     "iopub.execute_input": "2025-05-26T22:02:23.993494Z",
     "iopub.status.busy": "2025-05-26T22:02:23.993154Z",
     "iopub.status.idle": "2025-05-26T22:02:24.000863Z",
     "shell.execute_reply": "2025-05-26T22:02:23.999586Z",
     "shell.execute_reply.started": "2025-05-26T22:02:23.993470Z"
    },
    "papermill": {
     "duration": null,
     "end_time": null,
     "exception": null,
     "start_time": null,
     "status": "pending"
    },
    "tags": [],
    "trusted": true
   },
   "outputs": [],
   "source": [
    "# Step 2: Define the number of samples for validation and test sets\n",
    "val_size = 4        # Number of samples to reserve for validation\n",
    "test_size = 4       # Number of samples to reserve for testing\n",
    "\n",
    "# Compute the number of samples for the training set\n",
    "# Total = len(dataset), so training = total - val - test\n",
    "train_size = len(dataset) - val_size - test_size\n",
    "\n",
    "# Step 3: Randomly split the dataset into training, validation, and test sets\n",
    "TrainDataset, ValDataset, TestDataset = data.random_split(\n",
    "    dataset,                         # The full dataset to split\n",
    "    [train_size, val_size, test_size],  # List of sizes for each split\n",
    ")"
   ]
  },
  {
   "cell_type": "code",
   "execution_count": 14,
   "id": "b34953b6",
   "metadata": {
    "execution": {
     "iopub.execute_input": "2025-05-26T22:02:24.002148Z",
     "iopub.status.busy": "2025-05-26T22:02:24.001893Z",
     "iopub.status.idle": "2025-05-26T22:02:24.121123Z",
     "shell.execute_reply": "2025-05-26T22:02:24.119898Z",
     "shell.execute_reply.started": "2025-05-26T22:02:24.002131Z"
    },
    "papermill": {
     "duration": null,
     "end_time": null,
     "exception": null,
     "start_time": null,
     "status": "pending"
    },
    "tags": [],
    "trusted": true
   },
   "outputs": [
    {
     "name": "stdout",
     "output_type": "stream",
     "text": [
      "torch.Size([3, 48, 48])\n",
      "<class 'torch.Tensor'>\n",
      "label tensor([0., 1.])\n",
      "Image shape: torch.Size([3, 48, 48])\n"
     ]
    }
   ],
   "source": [
    "# Get one sample (image and label) from the training dataset\n",
    "images = TrainDataset[0]  # This returns a tuple: (image_tensor, label_tensor)\n",
    "\n",
    "# Print the shape of the image tensor\n",
    "print(images[0].shape)    # Should be something like torch.Size([3, H, W])\n",
    "\n",
    "# Extract the label from the tuple\n",
    "label = images[1]         # Can be a one-hot encoded tensor or class index depending on your target_transform\n",
    "\n",
    "# Print the type of the label (e.g., <class 'torch.Tensor'>)\n",
    "print(type(label))\n",
    "\n",
    "# Print the actual label value (e.g., tensor([1., 0.]))\n",
    "print(\"label\", label)\n",
    "\n",
    "# Another way to explicitly show the image shape\n",
    "print(f\"Image shape: {images[0].shape}\")\n"
   ]
  },
  {
   "cell_type": "code",
   "execution_count": 15,
   "id": "8e75f75b",
   "metadata": {
    "execution": {
     "iopub.execute_input": "2025-05-26T22:02:24.122598Z",
     "iopub.status.busy": "2025-05-26T22:02:24.122210Z",
     "iopub.status.idle": "2025-05-26T22:02:24.466976Z",
     "shell.execute_reply": "2025-05-26T22:02:24.466050Z",
     "shell.execute_reply.started": "2025-05-26T22:02:24.122567Z"
    },
    "papermill": {
     "duration": null,
     "end_time": null,
     "exception": null,
     "start_time": null,
     "status": "pending"
    },
    "tags": [],
    "trusted": true
   },
   "outputs": [
    {
     "data": {
      "image/png": "[encoded data removed]",
      "text/plain": [
       "<Figure size 640x480 with 1 Axes>"
      ]
     },
     "metadata": {},
     "output_type": "display_data"
    }
   ],
   "source": [
    "# Initialize an index counter\n",
    "index = 0\n",
    "\n",
    "# Iterate through all samples (image, label) in the training dataset\n",
    "for image, label in TrainDataset:\n",
    "    \n",
    "    # Check if the label matches [1., 0.] — i.e., class 0 in one-hot encoding\n",
    "    # (label == torch.tensor([1., 0.])) returns a boolean tensor, so sum(...) counts how many elements match\n",
    "    if sum(label == torch.tensor([1., 0.])) > 1:\n",
    "        \n",
    "        # If it's a match, increment the counter\n",
    "        index += 1\n",
    "\n",
    "        # Display the image using your custom image display function\n",
    "        show_tensor_image(image)\n",
    "\n",
    "        # Break after showing more than 5 matching images\n",
    "        if index > 5:\n",
    "            break"
   ]
  },
  {
   "cell_type": "markdown",
   "id": "1cd39bf8",
   "metadata": {
    "id": "M9bvhMihdFNH",
    "papermill": {
     "duration": null,
     "end_time": null,
     "exception": null,
     "start_time": null,
     "status": "pending"
    },
    "tags": []
   },
   "source": [
    "## Coding the Diffusion Model\n",
    "\n",
    "In this section, we’ll begin building our **Diffusion Model** — a powerful generative model used for creating high-quality synthetic images. We'll break it down into understandable, modular components so that each part makes sense and can be reused or extended later.\n",
    "\n",
    "\n",
    "### 🔧 Step-by-Step Breakdown\n",
    "\n",
    "We'll proceed in the following order:\n",
    "\n",
    "1. **📊 Utility Function (AverageMeter)**\n",
    "   - We'll define a simple utility class to keep track of metrics like loss during training.\n",
    "\n",
    "\n",
    "2. **🌫️ Noise Scheduler**\n",
    "   - The forward (diffusion) process starts here.\n",
    "   - This component defines how noise is added to clean images over time (timesteps), simulating the degradation process.\n",
    "\n",
    "\n",
    "3. **🧱 Core U-Net Architecture**\n",
    "   - Our model will follow a **U-Net**-like structure, which is commonly used in denoising and image segmentation tasks.\n",
    "   - We'll implement it **block by block**, building from the ground up:\n",
    "     - **Self-Attention Block:** Helps the model learn long-range dependencies.\n",
    "     - **Double Convolution Block:** Applies two successive convolutional layers to capture features.\n",
    "     - **Downsampling Block:** Reduces spatial resolution and increases feature abstraction.\n",
    "     - **Upsampling Block:** Restores spatial resolution, guided by features from earlier layers.\n",
    "     - **Positional Embeddings:** Encodes timestep and context information into the model.\n",
    "\n",
    "\n",
    "4. **🧩 Assembling the U-Net**\n",
    "   - All components from step 3 are brought together to construct the full U-Net.\n",
    "\n",
    "5. **🌀 The Diffusion Model**\n",
    "   - Here we combine:\n",
    "     - The **Noise Scheduler** from step 2\n",
    "     - The **U-Net** model from step 4\n",
    "   - This results in a complete diffusion system that learns how to **reverse the noise process**, gradually transforming pure noise into meaningful images conditioned on class labels or time.\n",
    "\n"
   ]
  },
  {
   "cell_type": "code",
   "execution_count": 16,
   "id": "9c332fe5",
   "metadata": {
    "execution": {
     "iopub.execute_input": "2025-05-26T22:02:24.468481Z",
     "iopub.status.busy": "2025-05-26T22:02:24.468118Z",
     "iopub.status.idle": "2025-05-26T22:02:24.474886Z",
     "shell.execute_reply": "2025-05-26T22:02:24.473906Z",
     "shell.execute_reply.started": "2025-05-26T22:02:24.468458Z"
    },
    "papermill": {
     "duration": null,
     "end_time": null,
     "exception": null,
     "start_time": null,
     "status": "pending"
    },
    "tags": [],
    "trusted": true
   },
   "outputs": [],
   "source": [
    "class AvgMeter(object):\n",
    "    def __init__(self, num=40):\n",
    "        \"\"\"\n",
    "        Initialize the average meter.\n",
    "\n",
    "        Args:\n",
    "            num (int): Number of recent values to keep for computing the average.\n",
    "        \"\"\"\n",
    "        self.num = num  # Limit to the most recent `num` values\n",
    "        self.reset()    # Initialize/reset the scores list\n",
    "\n",
    "    def reset(self):\n",
    "        \"\"\"\n",
    "        Clear the stored scores.\n",
    "        \"\"\"\n",
    "        self.scores = []\n",
    "\n",
    "    def update(self, val):\n",
    "        \"\"\"\n",
    "        Add a new value to the score list.\n",
    "\n",
    "        Args:\n",
    "            val (float or tensor): The new value to track.\n",
    "        \"\"\"\n",
    "        self.scores.append(val)\n",
    "\n",
    "    def show(self):\n",
    "        \"\"\"\n",
    "        Compute and return the average of the most recent `num` values.\n",
    "\n",
    "        Returns:\n",
    "            torch.Tensor: The mean of the recent values as a torch scalar.\n",
    "        \"\"\"\n",
    "        # Only use the last `num` values for averaging\n",
    "        out = torch.mean(\n",
    "            torch.stack(\n",
    "                self.scores[np.maximum(len(self.scores) - self.num, 0):]  # Get last `num` elements\n",
    "            )\n",
    "        )\n",
    "        return out\n"
   ]
  },
  {
   "cell_type": "markdown",
   "id": "07624656",
   "metadata": {
    "id": "OUP90Trjij2r",
    "papermill": {
     "duration": null,
     "end_time": null,
     "exception": null,
     "start_time": null,
     "status": "pending"
    },
    "tags": []
   },
   "source": [
    "### Noise Scheduler"
   ]
  },
  {
   "cell_type": "code",
   "execution_count": 17,
   "id": "17390426",
   "metadata": {
    "execution": {
     "iopub.execute_input": "2025-05-26T22:02:24.476101Z",
     "iopub.status.busy": "2025-05-26T22:02:24.475849Z",
     "iopub.status.idle": "2025-05-26T22:02:24.483934Z",
     "shell.execute_reply": "2025-05-26T22:02:24.482811Z",
     "shell.execute_reply.started": "2025-05-26T22:02:24.476081Z"
    },
    "papermill": {
     "duration": null,
     "end_time": null,
     "exception": null,
     "start_time": null,
     "status": "pending"
    },
    "tags": [],
    "trusted": true
   },
   "outputs": [],
   "source": [
    "import torch\n",
    "import torch.nn as nn\n",
    "\n",
    "class NoiseScheduler(nn.Module):\n",
    "    def __init__(\n",
    "        self,\n",
    "        T=DIFFUSION_STEP,          # Total number of diffusion steps (e.g., 1000)\n",
    "        beta_start=BETA_START,     # Starting value of beta (e.g., 1e-4)\n",
    "        beta_end=BETA_END          # Ending value of beta (e.g., 0.02)\n",
    "    ):\n",
    "        super().__init__()\n",
    "\n",
    "        # Number of timesteps in the diffusion process\n",
    "        self.T = T\n",
    "\n",
    "        # Linearly spaced beta schedule: controls the amount of noise added at each step\n",
    "        self.beta = torch.linspace(beta_start, beta_end, T).to(\n",
    "            \"cuda\" if torch.cuda.is_available() else \"cpu\"\n",
    "        )\n",
    "\n",
    "        # alpha = 1 - beta, which represents the amount of original signal preserved at each step\n",
    "        self.alpha = 1. - self.beta\n",
    "\n",
    "        # alpha_hat = cumulative product of alpha over time\n",
    "        # This represents the overall preservation of the original signal up to time t\n",
    "        self.alpha_hat = torch.cumprod(self.alpha, dim=0)\n",
    "\n",
    "    def forward(self, x, t):\n",
    "        \"\"\"\n",
    "        Add noise to input `x` based on timestep `t`.\n",
    "\n",
    "        Args:\n",
    "            x (Tensor): Original clean image tensor [B, C, H, W]\n",
    "            t (Tensor): Timestep tensor [B] containing values in [0, T)\n",
    "\n",
    "        Returns:\n",
    "            x_noisy (Tensor): Noisy version of the input image\n",
    "            noise (Tensor): The random noise that was added\n",
    "        \"\"\"\n",
    "        # Reshape alpha_hat[t] to [B, 1, 1, 1] to match image dimensions\n",
    "        sqrt_alpha_hat = torch.sqrt(self.alpha_hat[t])[:, None, None, None]\n",
    "        sqrt_one_minus_alpha_hat = torch.sqrt(\n",
    "            1 - self.alpha_hat[t]\n",
    "        ).unsqueeze(1).unsqueeze(1).unsqueeze(1)\n",
    "\n",
    "        # Generate standard Gaussian noise of the same shape as x\n",
    "        noise = torch.randn_like(x)\n",
    "\n",
    "        # Create the noisy image using the reparameterization formula:\n",
    "        # x_noisy = sqrt(alpha_hat) * x + sqrt(1 - alpha_hat) * noise\n",
    "        x_noisy = sqrt_alpha_hat * x + sqrt_one_minus_alpha_hat * noise\n",
    "\n",
    "        return x_noisy, noise\n"
   ]
  },
  {
   "cell_type": "code",
   "execution_count": 18,
   "id": "da7b7464",
   "metadata": {
    "execution": {
     "iopub.execute_input": "2025-05-26T22:02:24.485260Z",
     "iopub.status.busy": "2025-05-26T22:02:24.484950Z",
     "iopub.status.idle": "2025-05-26T22:02:24.489898Z",
     "shell.execute_reply": "2025-05-26T22:02:24.488852Z",
     "shell.execute_reply.started": "2025-05-26T22:02:24.485238Z"
    },
    "executionInfo": {
     "elapsed": 7,
     "status": "ok",
     "timestamp": 1747758137302,
     "user": {
      "displayName": "Joshua Tettey Teye",
      "userId": "03989818565665752308"
     },
     "user_tz": 0
    },
    "id": "C1eyVzjbmpH_",
    "papermill": {
     "duration": null,
     "end_time": null,
     "exception": null,
     "start_time": null,
     "status": "pending"
    },
    "tags": [],
    "trusted": true
   },
   "outputs": [],
   "source": [
    "FORWARD = NoiseScheduler"
   ]
  },
  {
   "cell_type": "markdown",
   "id": "4adf5857",
   "metadata": {
    "id": "uWcPMvglioOY",
    "papermill": {
     "duration": null,
     "end_time": null,
     "exception": null,
     "start_time": null,
     "status": "pending"
    },
    "tags": []
   },
   "source": [
    "### **U-Net**"
   ]
  },
  {
   "cell_type": "code",
   "execution_count": 19,
   "id": "6baf149f",
   "metadata": {
    "execution": {
     "iopub.execute_input": "2025-05-26T22:02:24.493498Z",
     "iopub.status.busy": "2025-05-26T22:02:24.493151Z",
     "iopub.status.idle": "2025-05-26T22:02:24.501608Z",
     "shell.execute_reply": "2025-05-26T22:02:24.500485Z",
     "shell.execute_reply.started": "2025-05-26T22:02:24.493471Z"
    },
    "papermill": {
     "duration": null,
     "end_time": null,
     "exception": null,
     "start_time": null,
     "status": "pending"
    },
    "tags": [],
    "trusted": true
   },
   "outputs": [],
   "source": [
    "class SelfAttention(nn.Module):\n",
    "    def __init__(self, channels, size):\n",
    "        super(SelfAttention, self).__init__()\n",
    "        \n",
    "        self.channels = channels  # Number of channels in the input (e.g., feature maps)\n",
    "        self.size = size          # Spatial size (height/width) of the feature map\n",
    "\n",
    "        # Multi-Head Attention: operates on flattened spatial features\n",
    "        self.mha = nn.MultiheadAttention(\n",
    "            embed_dim=channels,     # Each token has 'channels' features\n",
    "            num_heads=4,            # Number of attention heads\n",
    "            batch_first=True        # Input/output shape: (B, N, C) instead of default (N, B, C)\n",
    "        )\n",
    "\n",
    "        # LayerNorm before attention\n",
    "        self.ln = nn.LayerNorm([channels])\n",
    "\n",
    "        # Feed-forward block after attention\n",
    "        self.ff_self = nn.Sequential(\n",
    "            nn.LayerNorm([channels]),\n",
    "            nn.Linear(channels, channels),\n",
    "            nn.GELU(),\n",
    "            nn.Linear(channels, channels),\n",
    "        )\n",
    "\n",
    "    def forward(self, x):\n",
    "        # Input x: [B, C, H, W]\n",
    "        \n",
    "        # Reshape to [B, N, C] where N = H*W (flatten spatial dims), suitable for attention\n",
    "        x = x.view(-1, self.channels, self.size * self.size).swapaxes(1, 2)  # => [B, N, C]\n",
    "\n",
    "        # Apply LayerNorm before attention (standard transformer practice)\n",
    "        x_ln = self.ln(x)\n",
    "\n",
    "        # Apply multi-head self-attention: query, key, value are all x_ln\n",
    "        attention_value, _ = self.mha(x_ln, x_ln, x_ln)\n",
    "\n",
    "        # Residual connection: Add input x to attention output\n",
    "        attention_value = attention_value + x\n",
    "\n",
    "        # Feed-forward network with residual connection\n",
    "        attention_value = self.ff_self(attention_value) + attention_value\n",
    "\n",
    "        # Reshape back to original spatial dimensions: [B, C, H, W]\n",
    "        return attention_value.swapaxes(2, 1).view(-1, self.channels, self.size, self.size)\n"
   ]
  },
  {
   "cell_type": "code",
   "execution_count": 20,
   "id": "c311caed",
   "metadata": {
    "execution": {
     "iopub.execute_input": "2025-05-26T22:02:24.503417Z",
     "iopub.status.busy": "2025-05-26T22:02:24.503043Z",
     "iopub.status.idle": "2025-05-26T22:02:24.510907Z",
     "shell.execute_reply": "2025-05-26T22:02:24.510029Z",
     "shell.execute_reply.started": "2025-05-26T22:02:24.503386Z"
    },
    "papermill": {
     "duration": null,
     "end_time": null,
     "exception": null,
     "start_time": null,
     "status": "pending"
    },
    "tags": [],
    "trusted": true
   },
   "outputs": [],
   "source": [
    "import torch\n",
    "import torch.nn as nn\n",
    "import torch.nn.functional as F\n",
    "\n",
    "class DoubleConv(nn.Module):\n",
    "    def __init__(\n",
    "        self, in_channels, out_channels, mid_channels=None, residual=False,\n",
    "    ):\n",
    "        super().__init__()\n",
    "        self.residual = residual  # Whether to use residual connection\n",
    "\n",
    "        # If no mid_channels is provided, set it equal to out_channels\n",
    "        if not mid_channels:\n",
    "            mid_channels = out_channels\n",
    "\n",
    "        # Define a sequence of two convolutional layers with normalization and GELU activation\n",
    "        self.double_conv = nn.Sequential(\n",
    "            nn.Conv2d(\n",
    "                in_channels, mid_channels, kernel_size=3, padding=1, bias=False\n",
    "            ),                              # First Conv: in_channels → mid_channels\n",
    "            nn.GroupNorm(1, mid_channels),  # Group normalization with 1 group (acts like LayerNorm)\n",
    "            nn.GELU(),                      # GELU activation (smoother than ReLU)\n",
    "\n",
    "            nn.Conv2d(\n",
    "                mid_channels, out_channels, kernel_size=3, padding=1, bias=False\n",
    "            ),                              # Second Conv: mid_channels → out_channels\n",
    "            nn.GroupNorm(1, out_channels),  # Another GroupNorm\n",
    "        )\n",
    "\n",
    "    def forward(self, x):\n",
    "        # If residual is enabled, add input `x` to the convolutional output before GELU\n",
    "        if self.residual:\n",
    "            return F.gelu(x + self.double_conv(x))\n",
    "        else:\n",
    "            return self.double_conv(x)\n"
   ]
  },
  {
   "cell_type": "code",
   "execution_count": 21,
   "id": "7d649b00",
   "metadata": {
    "execution": {
     "iopub.execute_input": "2025-05-26T22:02:24.512161Z",
     "iopub.status.busy": "2025-05-26T22:02:24.511896Z",
     "iopub.status.idle": "2025-05-26T22:02:24.520961Z",
     "shell.execute_reply": "2025-05-26T22:02:24.519798Z",
     "shell.execute_reply.started": "2025-05-26T22:02:24.512140Z"
    },
    "papermill": {
     "duration": null,
     "end_time": null,
     "exception": null,
     "start_time": null,
     "status": "pending"
    },
    "tags": [],
    "trusted": true
   },
   "outputs": [],
   "source": [
    "import torch\n",
    "import torch.nn as nn\n",
    "\n",
    "class Down(nn.Module):\n",
    "    def __init__(self, in_channels, out_channels, time_emb_dim, context_emb_dim=N_CLASSES):\n",
    "        super().__init__()\n",
    "\n",
    "        # Downsampling block with:\n",
    "        # - MaxPooling to reduce spatial resolution by 2\n",
    "        # - Two DoubleConv layers (first with residual)\n",
    "        self.maxpool_conv = nn.Sequential(\n",
    "            nn.MaxPool2d(2),  # Downsample by a factor of 2\n",
    "            DoubleConv(in_channels, in_channels, residual=True),\n",
    "            DoubleConv(in_channels, out_channels),\n",
    "        )\n",
    "\n",
    "        # Linear layer to embed the time step into a feature map with 'out_channels' dimensions\n",
    "        self.time_emb_layer = nn.Sequential(\n",
    "            nn.SiLU(),  # Activation function (Sigmoid-weighted ReLU)\n",
    "            nn.Linear(time_emb_dim, out_channels),  # Time embedding projection\n",
    "        )\n",
    "\n",
    "        # Linear layer to embed the class/context label into the same shape\n",
    "        self.context_emb_layer = nn.Sequential(\n",
    "            nn.SiLU(),  # Activation function\n",
    "            nn.Linear(context_emb_dim, out_channels),  # Context embedding projection\n",
    "        )\n",
    "\n",
    "    def forward(self, x, y, t):\n",
    "        \"\"\"\n",
    "        Args:\n",
    "            x: Input feature map (B, C, H, W)\n",
    "            y: Context embedding input (e.g., class label vector) → shape (B, context_emb_dim)\n",
    "            t: Time embedding input (e.g., timestep vector) → shape (B, time_emb_dim)\n",
    "\n",
    "        Returns:\n",
    "            A feature map with both time and context conditioning applied.\n",
    "        \"\"\"\n",
    "\n",
    "        # Apply downsampling and convolutional operations\n",
    "        x = self.maxpool_conv(x)  # Output shape: (B, out_channels, H/2, W/2)\n",
    "\n",
    "        # Process time embedding and reshape to broadcast over spatial dimensions\n",
    "        t_emb = self.time_emb_layer(t)[:, :, None, None].repeat(\n",
    "            1, 1, x.shape[-2], x.shape[-1]\n",
    "        )\n",
    "\n",
    "        # Process context (e.g., class embedding) and reshape to broadcast\n",
    "        y_emb = self.context_emb_layer(y)[:, :, None, None].repeat(\n",
    "            1, 1, x.shape[-2], x.shape[-1]\n",
    "        )\n",
    "\n",
    "        # Apply conditioning: modulate x with y_emb (multiplicative) and t_emb (additive)\n",
    "        return (y_emb * x) + t_emb\n"
   ]
  },
  {
   "cell_type": "code",
   "execution_count": 22,
   "id": "b5eb2ca6",
   "metadata": {
    "execution": {
     "iopub.execute_input": "2025-05-26T22:02:24.522610Z",
     "iopub.status.busy": "2025-05-26T22:02:24.522229Z",
     "iopub.status.idle": "2025-05-26T22:02:24.532328Z",
     "shell.execute_reply": "2025-05-26T22:02:24.531050Z",
     "shell.execute_reply.started": "2025-05-26T22:02:24.522579Z"
    },
    "papermill": {
     "duration": null,
     "end_time": null,
     "exception": null,
     "start_time": null,
     "status": "pending"
    },
    "tags": [],
    "trusted": true
   },
   "outputs": [],
   "source": [
    "class Up(nn.Module):\n",
    "    def __init__(self, in_channels, out_channels, time_emb_dim, context_emb_dim=N_CLASSES):\n",
    "        super().__init__()\n",
    "\n",
    "        # Upsampling operation to increase spatial resolution by a factor of 2\n",
    "        self.up = nn.Upsample(\n",
    "            scale_factor=2,\n",
    "            mode=\"bilinear\",        # Bilinear interpolation for smoother upscaling\n",
    "            align_corners=True,\n",
    "        )\n",
    "\n",
    "        # Double convolution block after upsampling and skip connection concatenation\n",
    "        self.conv = nn.Sequential(\n",
    "            DoubleConv(in_channels, in_channels, residual=True),       # Residual double conv\n",
    "            DoubleConv(in_channels, out_channels, in_channels // 2),   # Standard double conv\n",
    "        )\n",
    "\n",
    "        # Project time embedding to match the number of output channels\n",
    "        self.time_emb_layer = nn.Sequential(\n",
    "            nn.SiLU(),                      # Activation function\n",
    "            nn.Linear(time_emb_dim, out_channels),  # Map time embedding → channel space\n",
    "        )\n",
    "\n",
    "        # Project context (e.g. class label) embedding to output channels\n",
    "        self.context_emb_layer = nn.Sequential(\n",
    "            nn.SiLU(),                             # Activation\n",
    "            nn.Linear(context_emb_dim, out_channels),  # Map context → channel space\n",
    "        )\n",
    "\n",
    "    def forward(self, x, skip_x, y, t):\n",
    "        \"\"\"\n",
    "        Forward pass of the Up block.\n",
    "\n",
    "        Args:\n",
    "            x (Tensor): Input feature map from the previous layer [B, C, H, W]\n",
    "            skip_x (Tensor): Feature map from the encoder for skip connection [B, C_skip, H, W]\n",
    "            y (Tensor): Context embedding [B, context_emb_dim]\n",
    "            t (Tensor): Time embedding [B, time_emb_dim]\n",
    "\n",
    "        Returns:\n",
    "            Tensor: Output feature map with conditioning applied\n",
    "        \"\"\"\n",
    "\n",
    "        # Upsample the input\n",
    "        x = self.up(x)\n",
    "\n",
    "        # Concatenate the skip connection from encoder (along channel dimension)\n",
    "        x = torch.cat([skip_x, x], dim=1)  # Shape: [B, C_skip + C, H, W]\n",
    "\n",
    "        # Apply convolutional layers\n",
    "        x = self.conv(x)\n",
    "\n",
    "        # Expand time embedding to spatial dimensions and match channels\n",
    "        t_emb = self.time_emb_layer(t)[:, :, None, None].repeat(\n",
    "            1, 1, x.shape[-2], x.shape[-1]\n",
    "        )\n",
    "\n",
    "        # Expand context embedding to spatial dimensions\n",
    "        y_emb = self.context_emb_layer(y)[:, :, None, None].repeat(\n",
    "            1, 1, x.shape[-2], x.shape[-1]\n",
    "        )\n",
    "\n",
    "        # Apply context as multiplicative modulation, and time as additive bias\n",
    "        return (y_emb * x) + t_emb\n"
   ]
  },
  {
   "cell_type": "code",
   "execution_count": 23,
   "id": "c98d46c3",
   "metadata": {
    "execution": {
     "iopub.execute_input": "2025-05-26T22:02:24.533689Z",
     "iopub.status.busy": "2025-05-26T22:02:24.533414Z",
     "iopub.status.idle": "2025-05-26T22:02:24.541406Z",
     "shell.execute_reply": "2025-05-26T22:02:24.540433Z",
     "shell.execute_reply.started": "2025-05-26T22:02:24.533670Z"
    },
    "papermill": {
     "duration": null,
     "end_time": null,
     "exception": null,
     "start_time": null,
     "status": "pending"
    },
    "tags": [],
    "trusted": true
   },
   "outputs": [],
   "source": [
    "import torch\n",
    "import torch.nn as nn\n",
    "\n",
    "class PositionalEmbedding(nn.Module):\n",
    "    def __init__(\n",
    "        self,\n",
    "        channels,\n",
    "        device=\"cuda\" if torch.cuda.is_available() else \"cpu\",\n",
    "    ):\n",
    "        super().__init__()\n",
    "        self.channels = channels  # Dimensionality of the embedding vector\n",
    "        self.device = device      # Device to place tensors on (e.g., \"cuda\" or \"cpu\")\n",
    "\n",
    "    def forward(self, time):\n",
    "        \"\"\"\n",
    "        Converts a scalar time tensor into a sinusoidal positional embedding.\n",
    "\n",
    "        Args:\n",
    "            time (Tensor): A tensor of shape [B, 1] or [B] representing timesteps.\n",
    "\n",
    "        Returns:\n",
    "            Tensor: A positional embedding of shape [B, channels]\n",
    "        \"\"\"\n",
    "\n",
    "        # Compute inverse frequencies for sinusoidal functions:\n",
    "        # inv_freq = [1/10000^(2i/channels) for i in (0, 2, 4, ...)]\n",
    "        inv_freq = 1.0 / (\n",
    "            10000 ** (\n",
    "                torch.arange(0, self.channels, 2, device=self.device).float() / self.channels\n",
    "            )\n",
    "        )\n",
    "\n",
    "        # Make sure time has shape [B, 1] for broadcasting\n",
    "        time = time.unsqueeze(1) if time.dim() == 1 else time\n",
    "\n",
    "        # Repeat time values to match the number of frequencies\n",
    "        # Apply sin to even indices, cos to odd indices\n",
    "        pos_enc_a = torch.sin(time * inv_freq)  # shape: [B, channels//2]\n",
    "        pos_enc_b = torch.cos(time * inv_freq)  # shape: [B, channels//2]\n",
    "\n",
    "        # Concatenate sin and cos components to get the full positional embedding\n",
    "        pos_enc = torch.cat([pos_enc_a, pos_enc_b], dim=-1)  # shape: [B, channels]\n",
    "\n",
    "        return pos_enc\n"
   ]
  },
  {
   "cell_type": "code",
   "execution_count": 24,
   "id": "533f3453",
   "metadata": {
    "execution": {
     "iopub.execute_input": "2025-05-26T22:02:24.542686Z",
     "iopub.status.busy": "2025-05-26T22:02:24.542323Z",
     "iopub.status.idle": "2025-05-26T22:02:24.554949Z",
     "shell.execute_reply": "2025-05-26T22:02:24.553950Z",
     "shell.execute_reply.started": "2025-05-26T22:02:24.542655Z"
    },
    "papermill": {
     "duration": null,
     "end_time": null,
     "exception": null,
     "start_time": null,
     "status": "pending"
    },
    "tags": [],
    "trusted": true
   },
   "outputs": [],
   "source": [
    "class UNet(nn.Module):\n",
    "    def __init__(\n",
    "        self,\n",
    "        c_in=N_CHANNEL,                          # Number of input channels (e.g., 3 for RGB)\n",
    "        c_out=N_CHANNEL,                         # Number of output channels\n",
    "        time_dim=256 // SCALE_DOWN,              # Dimensionality of time embeddings\n",
    "        device=\"cuda\" if torch.cuda.is_available() else \"cpu\"\n",
    "    ):\n",
    "        super().__init__()\n",
    "\n",
    "        # Initial convolutional block\n",
    "        self.input_conv = DoubleConv(c_in, 64 // SCALE_DOWN)\n",
    "\n",
    "        # Encoder (Downsampling path)\n",
    "        self.down1 = Down(64 // SCALE_DOWN, 128 // SCALE_DOWN, time_dim)\n",
    "        self.sa1 = SelfAttention(128 // SCALE_DOWN, IMAGE_SIZE // 2)  # Self-attention after down1\n",
    "\n",
    "        self.down2 = Down(128 // SCALE_DOWN, 256 // SCALE_DOWN, time_dim)\n",
    "        self.sa2 = SelfAttention(256 // SCALE_DOWN, IMAGE_SIZE // 4)\n",
    "\n",
    "        self.down3 = Down(256 // SCALE_DOWN, 256 // SCALE_DOWN, time_dim)\n",
    "        self.sa3 = SelfAttention(256 // SCALE_DOWN, IMAGE_SIZE // 8)\n",
    "\n",
    "        # Bridge (bottleneck)\n",
    "        self.bridge1 = DoubleConv(256 // SCALE_DOWN, 512 // SCALE_DOWN)\n",
    "        self.bridge2 = DoubleConv(512 // SCALE_DOWN, 512 // SCALE_DOWN)\n",
    "        self.bridge3 = DoubleConv(512 // SCALE_DOWN, 256 // SCALE_DOWN)\n",
    "\n",
    "        # Decoder (Upsampling path)\n",
    "        self.up1 = Up(512 // SCALE_DOWN, 128 // SCALE_DOWN, time_dim)\n",
    "        self.sa4 = SelfAttention(128 // SCALE_DOWN, IMAGE_SIZE // 4)\n",
    "\n",
    "        self.up2 = Up(256 // SCALE_DOWN, 64 // SCALE_DOWN, time_dim)\n",
    "        self.sa5 = SelfAttention(64 // SCALE_DOWN, IMAGE_SIZE // 2)\n",
    "\n",
    "        self.up3 = Up(128 // SCALE_DOWN, 64 // SCALE_DOWN, time_dim)\n",
    "        self.sa6 = SelfAttention(64 // SCALE_DOWN, IMAGE_SIZE)\n",
    "\n",
    "        # Final convolution to produce output image\n",
    "        self.out_conv = nn.Conv2d(64 // SCALE_DOWN, c_out, kernel_size=1)\n",
    "\n",
    "        # Time positional encoding (used to condition the model on timestep `t`)\n",
    "        self.pos_encoding = PositionalEmbedding(time_dim, device)\n",
    "\n",
    "    def forward(self, x, y, t):\n",
    "        \"\"\"\n",
    "        Forward pass of the conditional U-Net.\n",
    "\n",
    "        Args:\n",
    "            x: Input image tensor (B, C, H, W)\n",
    "            y: Class embedding or one-hot vector (B, N_CLASSES)\n",
    "            t: Time step tensor (B)\n",
    "\n",
    "        Returns:\n",
    "            Tensor: Output image tensor (B, C_out, H, W)\n",
    "        \"\"\"\n",
    "        # Expand and encode the time embedding\n",
    "        t = t.unsqueeze(-1).type(torch.float)     # Ensure shape [B, 1]\n",
    "        t = self.pos_encoding(t)                  # Get time embedding [B, time_dim]\n",
    "\n",
    "        # Downsampling path\n",
    "        x1 = self.input_conv(x)                   # Initial conv\n",
    "        x2 = self.down1(x1, y, t)\n",
    "        x2 = self.sa1(x2)\n",
    "\n",
    "        x3 = self.down2(x2, y, t)\n",
    "        x3 = self.sa2(x3)\n",
    "\n",
    "        x4 = self.down3(x3, y, t)\n",
    "        x4 = self.sa3(x4)\n",
    "\n",
    "        # Bottleneck (bridge)\n",
    "        x4 = self.bridge1(x4)\n",
    "        x4 = self.bridge2(x4)\n",
    "        x4 = self.bridge3(x4)\n",
    "\n",
    "        # Upsampling path with skip connections\n",
    "        x = self.up1(x4, x3, y, t)\n",
    "        x = self.sa4(x)\n",
    "\n",
    "        x = self.up2(x, x2, y, t)\n",
    "        x = self.sa5(x)\n",
    "\n",
    "        x = self.up3(x, x1, y, t)\n",
    "        x = self.sa6(x)\n",
    "\n",
    "        # Final output layer\n",
    "        output = self.out_conv(x)\n",
    "\n",
    "        return output\n"
   ]
  },
  {
   "cell_type": "code",
   "execution_count": 25,
   "id": "810a6a4e",
   "metadata": {
    "execution": {
     "iopub.execute_input": "2025-05-26T22:02:24.556114Z",
     "iopub.status.busy": "2025-05-26T22:02:24.555891Z",
     "iopub.status.idle": "2025-05-26T22:02:24.560028Z",
     "shell.execute_reply": "2025-05-26T22:02:24.559158Z",
     "shell.execute_reply.started": "2025-05-26T22:02:24.556097Z"
    },
    "executionInfo": {
     "elapsed": 5,
     "status": "ok",
     "timestamp": 1747758141286,
     "user": {
      "displayName": "Joshua Tettey Teye",
      "userId": "03989818565665752308"
     },
     "user_tz": 0
    },
    "id": "f8Y-sm8FmlrI",
    "papermill": {
     "duration": null,
     "end_time": null,
     "exception": null,
     "start_time": null,
     "status": "pending"
    },
    "tags": [],
    "trusted": true
   },
   "outputs": [],
   "source": [
    "BACKWARD = UNet"
   ]
  },
  {
   "cell_type": "markdown",
   "id": "6431ecad",
   "metadata": {
    "id": "tn_nP8Uqmi6b",
    "papermill": {
     "duration": null,
     "end_time": null,
     "exception": null,
     "start_time": null,
     "status": "pending"
    },
    "tags": []
   },
   "source": [
    "### **Wrapper**"
   ]
  },
  {
   "cell_type": "code",
   "execution_count": 33,
   "id": "65df07db",
   "metadata": {
    "execution": {
     "iopub.execute_input": "2025-05-26T22:09:06.989938Z",
     "iopub.status.busy": "2025-05-26T22:09:06.989588Z",
     "iopub.status.idle": "2025-05-26T22:09:07.014933Z",
     "shell.execute_reply": "2025-05-26T22:09:07.013933Z",
     "shell.execute_reply.started": "2025-05-26T22:09:06.989912Z"
    },
    "papermill": {
     "duration": null,
     "end_time": null,
     "exception": null,
     "start_time": null,
     "status": "pending"
    },
    "tags": [],
    "trusted": true
   },
   "outputs": [],
   "source": [
    "class DiffusionModel(L.LightningModule):\n",
    "    def __init__(self, forward_model, backward_model, batch_size, lr, max_epoch):\n",
    "        super().__init__()\n",
    "        \n",
    "        # Diffusion models\n",
    "        self.forward_model = forward_model  # Noise scheduler\n",
    "        self.backward_model = backward_model  # Denoising UNet\n",
    "\n",
    "        # Training parameters\n",
    "        self.batch_size = batch_size\n",
    "        self.lr = lr\n",
    "        self.max_epoch = max_epoch\n",
    "\n",
    "        # Manual optimization\n",
    "        self.automatic_optimization = False\n",
    "\n",
    "        # Metrics\n",
    "        self.model_loss = []\n",
    "        self.val_fid = []\n",
    "\n",
    "        self.model_loss_recorder = AvgMeter()\n",
    "        self.val_fid_recorder = AvgMeter()\n",
    "\n",
    "        self._device = \"cuda\" if torch.cuda.is_available() else \"cpu\"\n",
    "        self._T = self.forward_model.T\n",
    "\n",
    "        # FID computation\n",
    "        self.fid = FrechetInceptionDistance(\n",
    "            feature=64,\n",
    "            input_img_size=(N_CHANNEL, IMAGE_SIZE, IMAGE_SIZE),\n",
    "            normalize=True\n",
    "        )\n",
    "\n",
    "    def forward(self, x=None, y=None, t=None):\n",
    "        # Training: return MSE loss between predicted and true noise\n",
    "        if self.training:\n",
    "            x_noisy, noise = self.forward_model(x, t)\n",
    "            noise_pred = self.backward_model(x_noisy, y, t)\n",
    "            return F.mse_loss(noise, noise_pred)\n",
    "        else:\n",
    "            # Sampling mode during validation or inference\n",
    "            return self.sample(progress=False, verbose=True)\n",
    "\n",
    "    def sample(self, n=1, context=None, progress=False, verbose=False, n_progress=5):\n",
    "        self.backward_model.eval()\n",
    "\n",
    "        # If no context is provided, randomly generate one-hot class context\n",
    "        context = F.one_hot(torch.tensor(np.random.randint(0, 2), dtype=torch.int64),\n",
    "                            num_classes=N_CLASSES).float() if context is None else context\n",
    "\n",
    "        progress_image = [] if progress else None\n",
    "\n",
    "        with torch.no_grad():\n",
    "            x = torch.randn((n, N_CHANNEL, IMAGE_SIZE, IMAGE_SIZE)).to(self.device)\n",
    "\n",
    "            if progress:\n",
    "                progress_image.append(x.detach().cpu())\n",
    "\n",
    "            iteration = tqdm(reversed(range(0, self._T)), position=0) if verbose else reversed(range(0, self._T))\n",
    "\n",
    "            for i in iteration:\n",
    "                t = (torch.ones(n) * i).long().to(self.device)\n",
    "\n",
    "                noise_pred = self.backward_model(x, context, t)\n",
    "\n",
    "                alpha = self.forward_model.alpha[t][:, None, None, None]\n",
    "                alpha_hat = self.forward_model.alpha_hat[t][:, None, None, None]\n",
    "                beta = self.forward_model.beta[t][:, None, None, None]\n",
    "\n",
    "                noise = torch.randn_like(x) if i else torch.zeros_like(x)\n",
    "\n",
    "                # Reverse process (denoising step)\n",
    "                x = (\n",
    "                    1 / torch.sqrt(alpha) *\n",
    "                    (x - ((1 - alpha) / torch.sqrt(1 - alpha_hat)) * noise_pred) +\n",
    "                    torch.sqrt(beta) * noise\n",
    "                )\n",
    "                x = torch.clamp(x, -1.0, 1.0)\n",
    "\n",
    "                if progress and i % (self._T // n_progress) == 0:\n",
    "                    progress_image.append(x.detach().cpu())\n",
    "\n",
    "            if progress:\n",
    "                progress_image.pop(n_progress // 2)\n",
    "                return progress_image\n",
    "\n",
    "        return x\n",
    "\n",
    "    def on_train_epoch_start(self):\n",
    "        self.fid.reset()\n",
    "\n",
    "    def training_step(self, batch, batch_nb):\n",
    "        x, y = batch\n",
    "\n",
    "        self.fid.update((x + 1.0) / 2.0, real=True)\n",
    "\n",
    "        t = torch.randint(0, self._T, (self.batch_size,), device=self._device).long()\n",
    "        loss = self(x, y, t)\n",
    "\n",
    "        opt = self.optimizers()\n",
    "        opt.zero_grad()\n",
    "        self.manual_backward(loss)\n",
    "        opt.step()\n",
    "\n",
    "        self.log(\"model_loss\", loss, prog_bar=True)\n",
    "        self.model_loss_recorder.update(loss.data)\n",
    "\n",
    "    def on_train_epoch_end(self):\n",
    "        self.model_loss.append(self.model_loss_recorder.show().data.cpu().numpy())\n",
    "        self.model_loss_recorder = AvgMeter()\n",
    "\n",
    "    def validation_step(self, batch, batch_nb):\n",
    "        x, y = batch\n",
    "        self.fid.update((x + 1.0) / 2.0, real=True)\n",
    "\n",
    "        _x = self.sample(x.shape[0], y)\n",
    "        self.fid.update((_x + 1.0) / 2.0, real=False)\n",
    "\n",
    "        fid = self.fid.compute().data.cpu()\n",
    "        self.log(\"val_fid\", fid, prog_bar=True)\n",
    "        self.val_fid_recorder.update(fid)\n",
    "\n",
    "    def on_validation_epoch_end(self):\n",
    "        self.val_fid.append(self.val_fid_recorder.show().data.cpu().numpy())\n",
    "        self.val_fid_recorder = AvgMeter()\n",
    "\n",
    "    def test_step(self, batch, batch_nb):\n",
    "        x, y = batch\n",
    "        self.fid.update((x + 1.0) / 2.0, real=True)\n",
    "\n",
    "        _x = self.sample(x.shape[0], y)\n",
    "        self.fid.update((_x + 1.0) / 2.0, real=False)\n",
    "\n",
    "    def on_test_epoch_end(self):\n",
    "        fid = self.fid.compute().data.cpu()\n",
    "        self.log(\"test_fid\", fid, prog_bar=False, logger=True)\n",
    "\n",
    "    def on_train_end(self):\n",
    "        # Plot training loss\n",
    "        loss_img_file = f\"/content/{MODEL_NAME}_loss_plot.png\"\n",
    "        plt.plot(self.model_loss, color=\"r\")\n",
    "        plt.title(\"Loss Curves\")\n",
    "        plt.xlabel(\"Epoch\")\n",
    "        plt.ylabel(\"Loss\")\n",
    "        plt.grid()\n",
    "        plt.savefig(loss_img_file)\n",
    "        plt.clf()\n",
    "        img = cv2.imread(loss_img_file)\n",
    "        cv2_imshow(img)\n",
    "\n",
    "        # Plot FID metric over epochs\n",
    "        evaluation_metric_img_file = f\"/content/{MODEL_NAME}_fid_plot.png\"\n",
    "        plt.plot(self.val_fid[1:], color=\"b\")\n",
    "        plt.title(\"FID Curves\")\n",
    "        plt.xlabel(\"Epoch\")\n",
    "        plt.ylabel(\"FID\")\n",
    "        plt.grid()\n",
    "        plt.savefig(evaluation_metric_img_file)\n",
    "        plt.clf()\n",
    "        img = cv2.imread(evaluation_metric_img_file)\n",
    "        cv2_imshow(img)\n",
    "\n",
    "    def train_dataloader(self):\n",
    "        return data.DataLoader(\n",
    "            dataset=TrainDataset,\n",
    "            batch_size=self.batch_size,\n",
    "            shuffle=True,\n",
    "            drop_last=True\n",
    "        )\n",
    "\n",
    "    def val_dataloader(self):\n",
    "        return data.DataLoader(\n",
    "            dataset=ValDataset,\n",
    "            batch_size=2,\n",
    "            shuffle=True,\n",
    "            drop_last=True\n",
    "        )\n",
    "\n",
    "    def test_dataloader(self):\n",
    "        return data.DataLoader(\n",
    "            dataset=TestDataset,\n",
    "            batch_size=2,\n",
    "            shuffle=True,\n",
    "            drop_last=True\n",
    "        )\n",
    "\n",
    "    def configure_optimizers(self):\n",
    "        return [optim.AdamW(self.parameters(), lr=self.lr)]\n"
   ]
  },
  {
   "cell_type": "code",
   "execution_count": 34,
   "id": "bd7b215a",
   "metadata": {
    "execution": {
     "iopub.execute_input": "2025-05-26T22:09:10.495296Z",
     "iopub.status.busy": "2025-05-26T22:09:10.494550Z",
     "iopub.status.idle": "2025-05-26T22:09:10.499232Z",
     "shell.execute_reply": "2025-05-26T22:09:10.498439Z",
     "shell.execute_reply.started": "2025-05-26T22:09:10.495269Z"
    },
    "executionInfo": {
     "elapsed": 21,
     "status": "ok",
     "timestamp": 1747758142802,
     "user": {
      "displayName": "Joshua Tettey Teye",
      "userId": "03989818565665752308"
     },
     "user_tz": 0
    },
    "id": "9cngPQKTtyGV",
    "papermill": {
     "duration": null,
     "end_time": null,
     "exception": null,
     "start_time": null,
     "status": "pending"
    },
    "tags": [],
    "trusted": true
   },
   "outputs": [],
   "source": [
    "MODEL_NAME = DiffusionModel.__name__"
   ]
  },
  {
   "cell_type": "code",
   "execution_count": 35,
   "id": "6fddae28",
   "metadata": {
    "execution": {
     "iopub.execute_input": "2025-05-26T22:09:11.803147Z",
     "iopub.status.busy": "2025-05-26T22:09:11.802832Z",
     "iopub.status.idle": "2025-05-26T22:09:12.429342Z",
     "shell.execute_reply": "2025-05-26T22:09:12.428423Z",
     "shell.execute_reply.started": "2025-05-26T22:09:11.803129Z"
    },
    "papermill": {
     "duration": null,
     "end_time": null,
     "exception": null,
     "start_time": null,
     "status": "pending"
    },
    "tags": [],
    "trusted": true
   },
   "outputs": [],
   "source": [
    "load_pretrained = False  # Set to True to load from a saved checkpoint\n",
    "checkpoint_path = None\n",
    "\n",
    "if load_pretrained:\n",
    "    print(\"Loading pre-weights...\")\n",
    "\n",
    "    # Load the pretrained model from a checkpoint file using PyTorch Lightning\n",
    "    model = DiffusionModel.load_from_checkpoint(\n",
    "        checkpoint_path=checkpoint_path,  # Path to the saved checkpoint\n",
    "\n",
    "        # Map the model to the appropriate device (GPU if available, else CPU)\n",
    "        map_location=\"cuda\" if torch.cuda.is_available() else \"cpu\",\n",
    "\n",
    "        # Required arguments for rebuilding the model instance (must match constructor)\n",
    "        forward_model=FORWARD(),         # Forward diffusion scheduler\n",
    "        backward_model=BACKWARD(),       # Backward (UNet) model\n",
    "        batch_size=BATCH_SIZE,           # Batch size during training/inference\n",
    "        lr=LR,                           # Learning rate\n",
    "        max_epoch=MAX_EPOCH,             # Total training epochs\n",
    "    )\n",
    "else:\n",
    "    # Fresh initialization of the model from scratch\n",
    "    model = DiffusionModel(FORWARD(), BACKWARD(), 32, LR, MAX_EPOCH)"
   ]
  },
  {
   "cell_type": "markdown",
   "id": "60b8532b",
   "metadata": {
    "id": "boRJQCOJdFXa",
    "papermill": {
     "duration": null,
     "end_time": null,
     "exception": null,
     "start_time": null,
     "status": "pending"
    },
    "tags": []
   },
   "source": [
    "## **Training**"
   ]
  },
  {
   "cell_type": "code",
   "execution_count": null,
   "id": "0f2d1146",
   "metadata": {
    "execution": {
     "iopub.execute_input": "2025-05-26T22:09:20.368105Z",
     "iopub.status.busy": "2025-05-26T22:09:20.367595Z"
    },
    "id": "96vkBWERjAwH",
    "outputId": "0824364f-0cf2-4a95-c210-ab8d220e7daf",
    "papermill": {
     "duration": null,
     "end_time": null,
     "exception": null,
     "start_time": null,
     "status": "pending"
    },
    "tags": [],
    "trusted": true
   },
   "outputs": [
    {
     "name": "stderr",
     "output_type": "stream",
     "text": [
      "2025-05-26 22:09:24.826272: E external/local_xla/xla/stream_executor/cuda/cuda_fft.cc:477] Unable to register cuFFT factory: Attempting to register factory for plugin cuFFT when one has already been registered\n",
      "WARNING: All log messages before absl::InitializeLog() is called are written to STDERR\n",
      "E0000 00:00:1748297365.246892      35 cuda_dnn.cc:8310] Unable to register cuDNN factory: Attempting to register factory for plugin cuDNN when one has already been registered\n",
      "E0000 00:00:1748297365.374367      35 cuda_blas.cc:1418] Unable to register cuBLAS factory: Attempting to register factory for plugin cuBLAS when one has already been registered\n",
      "INFO: \n",
      "  | Name           | Type                     | Params | Mode \n",
      "--------------------------------------------------------------------\n",
      "0 | forward_model  | NoiseScheduler           | 0      | train\n",
      "1 | backward_model | UNet                     | 5.8 M  | train\n",
      "2 | fid            | FrechetInceptionDistance | 23.9 M | train\n",
      "--------------------------------------------------------------------\n",
      "5.8 M     Trainable params\n",
      "23.9 M    Non-trainable params\n",
      "29.7 M    Total params\n",
      "118.768   Total estimated model params size (MB)\n",
      "225       Modules in train mode\n",
      "298       Modules in eval mode\n"
     ]
    },
    {
     "data": {
      "application/vnd.jupyter.widget-view+json": {
       "model_id": "609d9e09a1274dd984d073a38c96f6e4",
       "version_major": 2,
       "version_minor": 0
      },
      "text/plain": [
       "Sanity Checking: |          | 0/? [00:00<?, ?it/s]"
      ]
     },
     "metadata": {},
     "output_type": "display_data"
    }
   ],
   "source": [
    "# Define a checkpoint callback to save the best model based on validation FID\n",
    "checkpoint = ModelCheckpoint(\n",
    "    monitor='val_fid',            # Metric to monitor\n",
    "    dirpath=CHECKPOINT_DIR,       # Directory to save checkpoint files\n",
    "    mode='min',                   # Lower FID = better\n",
    ")\n",
    "\n",
    "# Create a Lightning Trainer object with desired settings\n",
    "trainer = Trainer(\n",
    "    accelerator=\"auto\",           # Automatically choose GPU/CPU\n",
    "    devices=1,                    # Use 1 GPU or 1 CPU\n",
    "    max_epochs=30,                # Total training epochs\n",
    "    callbacks=[checkpoint],       # Use ModelCheckpoint callback\n",
    "    log_every_n_steps=5,          # Log metrics every 5 steps\n",
    "    check_val_every_n_epoch=5,    # Run validation every 5 epochs\n",
    ")\n",
    "\n",
    "# Begin training the model\n",
    "trainer.fit(model)\n",
    "\n"
   ]
  },
  {
   "cell_type": "markdown",
   "id": "1c4aab6a",
   "metadata": {
    "id": "rx7WK_KxdFhM",
    "papermill": {
     "duration": null,
     "end_time": null,
     "exception": null,
     "start_time": null,
     "status": "pending"
    },
    "tags": []
   },
   "source": [
    "## **Testing**"
   ]
  },
  {
   "cell_type": "code",
   "execution_count": null,
   "id": "f8b99c44",
   "metadata": {
    "execution": {
     "iopub.status.busy": "2025-05-26T22:06:31.479855Z",
     "iopub.status.idle": "2025-05-26T22:06:31.480135Z",
     "shell.execute_reply": "2025-05-26T22:06:31.480022Z",
     "shell.execute_reply.started": "2025-05-26T22:06:31.480011Z"
    },
    "papermill": {
     "duration": null,
     "end_time": null,
     "exception": null,
     "start_time": null,
     "status": "pending"
    },
    "tags": [],
    "trusted": true
   },
   "outputs": [],
   "source": [
    "# Rename the best model checkpoint to a custom file name for easier identification\n",
    "os.rename(\n",
    "    checkpoint.best_model_path,                                     # Original path (auto-named by PyTorch Lightning)\n",
    "    os.path.join(CHECKPOINT_DIR, f\"{MODEL_NAME}_best.ckpt\")         # New path with custom name\n",
    ")\n"
   ]
  },
  {
   "cell_type": "code",
   "execution_count": null,
   "id": "ea134210",
   "metadata": {
    "execution": {
     "iopub.status.busy": "2025-05-26T22:06:31.481181Z",
     "iopub.status.idle": "2025-05-26T22:06:31.481524Z",
     "shell.execute_reply": "2025-05-26T22:06:31.481403Z",
     "shell.execute_reply.started": "2025-05-26T22:06:31.481388Z"
    },
    "papermill": {
     "duration": null,
     "end_time": null,
     "exception": null,
     "start_time": null,
     "status": "pending"
    },
    "tags": [],
    "trusted": true
   },
   "outputs": [],
   "source": [
    "# Set model to evaluation mode to disable dropout, batchnorm updates, etc.\n",
    "model.eval()\n",
    "\n",
    "# Run the test step using the best saved checkpoint\n",
    "trainer.test(\n",
    "    ckpt_path=os.path.join(CHECKPOINT_DIR, f\"{MODEL_NAME}_best.ckpt\")\n",
    ")\n"
   ]
  },
  {
   "cell_type": "markdown",
   "id": "bc68ee56",
   "metadata": {
    "id": "JfvehFoAiW16",
    "papermill": {
     "duration": null,
     "end_time": null,
     "exception": null,
     "start_time": null,
     "status": "pending"
    },
    "tags": []
   },
   "source": [
    "## **Inference**"
   ]
  },
  {
   "cell_type": "markdown",
   "id": "5055ca71",
   "metadata": {
    "id": "9U0lYLLUR23C",
    "papermill": {
     "duration": null,
     "end_time": null,
     "exception": null,
     "start_time": null,
     "status": "pending"
    },
    "tags": []
   },
   "source": [
    "### **Utils**"
   ]
  },
  {
   "cell_type": "code",
   "execution_count": null,
   "id": "f85eb07d",
   "metadata": {
    "execution": {
     "iopub.status.busy": "2025-05-26T22:06:31.482167Z",
     "iopub.status.idle": "2025-05-26T22:06:31.482571Z",
     "shell.execute_reply": "2025-05-26T22:06:31.482394Z",
     "shell.execute_reply.started": "2025-05-26T22:06:31.482376Z"
    },
    "id": "ndWwtFfmJZ_F",
    "papermill": {
     "duration": null,
     "end_time": null,
     "exception": null,
     "start_time": null,
     "status": "pending"
    },
    "tags": [],
    "trusted": true
   },
   "outputs": [],
   "source": [
    "CHECKPOINT_INFERENCE = os.path.join(CHECKPOINT_DIR, f\"{MODEL_NAME}_best.ckpt\")"
   ]
  },
  {
   "cell_type": "code",
   "execution_count": null,
   "id": "3d3ab4af",
   "metadata": {
    "execution": {
     "iopub.status.busy": "2025-05-26T22:06:31.483383Z",
     "iopub.status.idle": "2025-05-26T22:06:31.483762Z",
     "shell.execute_reply": "2025-05-26T22:06:31.483582Z",
     "shell.execute_reply.started": "2025-05-26T22:06:31.483563Z"
    },
    "id": "srJUwJm8ktjs",
    "papermill": {
     "duration": null,
     "end_time": null,
     "exception": null,
     "start_time": null,
     "status": "pending"
    },
    "tags": [],
    "trusted": true
   },
   "outputs": [],
   "source": [
    "N_SAMPLE = 5"
   ]
  },
  {
   "cell_type": "code",
   "execution_count": null,
   "id": "f31c0ff8",
   "metadata": {
    "execution": {
     "iopub.status.busy": "2025-05-26T22:06:31.485953Z",
     "iopub.status.idle": "2025-05-26T22:06:31.486250Z",
     "shell.execute_reply": "2025-05-26T22:06:31.486132Z",
     "shell.execute_reply.started": "2025-05-26T22:06:31.486119Z"
    },
    "papermill": {
     "duration": null,
     "end_time": null,
     "exception": null,
     "start_time": null,
     "status": "pending"
    },
    "tags": [],
    "trusted": true
   },
   "outputs": [],
   "source": [
    "# Load the pretrained diffusion model from a checkpoint\n",
    "model = DiffusionModel.load_from_checkpoint(\n",
    "    checkpoint_path=CHECKPOINT_INFERENCE,  # Path to your saved .ckpt file\n",
    "    map_location=\"cuda\" if torch.cuda.is_available() else \"cpu\",  # Load onto the correct device\n",
    "    forward_model=FORWARD(),         # Reconstruct the forward noise scheduler\n",
    "    backward_model=BACKWARD(),       # Reconstruct the backward UNet\n",
    "    batch_size=BATCH_SIZE,           # Must match what was used during training\n",
    "    lr=LR,                           # Learning rate used at training\n",
    "    max_epoch=MAX_EPOCH              # Total epochs used in training\n",
    ")\n",
    "\n",
    "# Set model to evaluation mode to disable training-specific behavior (e.g., dropout)\n",
    "model.eval()\n",
    "\n",
    "print(\"done\")"
   ]
  },
  {
   "cell_type": "markdown",
   "id": "b08bfe81",
   "metadata": {
    "id": "ym6UVoVoR6NE",
    "papermill": {
     "duration": null,
     "end_time": null,
     "exception": null,
     "start_time": null,
     "status": "pending"
    },
    "tags": []
   },
   "source": [
    "### Visualize"
   ]
  },
  {
   "cell_type": "code",
   "execution_count": null,
   "id": "f3069fc6",
   "metadata": {
    "execution": {
     "iopub.status.busy": "2025-05-26T22:06:31.487163Z",
     "iopub.status.idle": "2025-05-26T22:06:31.487494Z",
     "shell.execute_reply": "2025-05-26T22:06:31.487321Z",
     "shell.execute_reply.started": "2025-05-26T22:06:31.487310Z"
    },
    "id": "e9STip-Oh5sY",
    "papermill": {
     "duration": null,
     "end_time": null,
     "exception": null,
     "start_time": null,
     "status": "pending"
    },
    "tags": [],
    "trusted": true
   },
   "outputs": [],
   "source": [
    "samples_per_class = 10  # Number of samples to generate per class\n",
    "\n",
    "for class_id in range(0, 2):  # Loop through all classes (e.g., 0 and 1)\n",
    "    # Create one-hot class label and move to CUDA\n",
    "    class_label = F.one_hot(torch.tensor(class_id, dtype=torch.int64), num_classes=N_CLASSES).float().to(\"cuda\")\n",
    "    class_label = class_label.unsqueeze(0)  # Shape: [1, N_CLASSES]\n",
    "    \n",
    "    print(f\"\\nClass {class_id} one-hot:\", class_label)\n",
    "\n",
    "    model.eval()  # Ensure model is in inference mode\n",
    "\n",
    "    for sample_idx in range(samples_per_class):\n",
    "        plt.figure(figsize=(5, 5))  # Set figure size for clarity\n",
    "\n",
    "        # Generate 1 sample with the given class condition\n",
    "        generated = model.sample(\n",
    "            n=1,\n",
    "            context=class_label,\n",
    "            progress=False,\n",
    "            verbose=False,\n",
    "            n_progress=5\n",
    "        )\n",
    "\n",
    "        # Extract image from batch (shape: [1, C, H, W]) → [C, H, W]\n",
    "        image = generated[0] if isinstance(generated, list) else generated[0, :, :, :]\n",
    "\n",
    "        # Show the generated image\n",
    "        show_tensor_image(image)"
   ]
  }
 ],
 "metadata": {
  "accelerator": "GPU",
  "colab": {
   "gpuType": "T4",
   "provenance": [
    {
     "file_id": "1LfsGqCPgqXTb47fHjD1krY8qSZTIqTsf",
     "timestamp": 1746033866095
    },
    {
     "file_id": "https://github.com/reshalfahsi/medical-image-generation/blob/master/Medical_Image_Generation_Using_Diffusion_Model.ipynb",
     "timestamp": 1745384577218
    }
   ]
  },
  "kaggle": {
   "accelerator": "none",
   "dataSources": [
    {
     "datasetId": 614679,
     "sourceId": 1099232,
     "sourceType": "datasetVersion"
    }
   ],
   "dockerImageVersionId": 31040,
   "isGpuEnabled": false,
   "isInternetEnabled": true,
   "language": "python",
   "sourceType": "notebook"
  },
  "kernelspec": {
   "display_name": "Python 3",
   "language": "python",
   "name": "python3"
  },
  "language_info": {
   "codemirror_mode": {
    "name": "ipython",
    "version": 3
   },
   "file_extension": ".py",
   "mimetype": "text/x-python",
   "name": "python",
   "nbconvert_exporter": "python",
   "pygments_lexer": "ipython3",
   "version": "3.11.11"
  },
  "papermill": {
   "default_parameters": {},
   "duration": 211.123357,
   "end_time": "2025-05-26T16:54:29.811007",
   "environment_variables": {},
   "exception": true,
   "input_path": "__notebook__.ipynb",
   "output_path": "__notebook__.ipynb",
   "parameters": {},
   "start_time": "2025-05-26T16:50:58.687650",
   "version": "2.6.0"
  },
  "widgets": {
   "application/vnd.jupyter.widget-state+json": {
    "0d2b2a977cbd4e718d34cea0c5b377ad": {
     "model_module": "@jupyter-widgets/base",
     "model_module_version": "1.2.0",
     "model_name": "LayoutModel",
     "state": {
      "_model_module": "@jupyter-widgets/base",
      "_model_module_version": "1.2.0",
      "_model_name": "LayoutModel",
      "_view_count": null,
      "_view_module": "@jupyter-widgets/base",
      "_view_module_version": "1.2.0",
      "_view_name": "LayoutView",
      "align_content": null,
      "align_items": null,
      "align_self": null,
      "border": null,
      "bottom": null,
      "display": "inline-flex",
      "flex": null,
      "flex_flow": "row wrap",
      "grid_area": null,
      "grid_auto_columns": null,
      "grid_auto_flow": null,
      "grid_auto_rows": null,
      "grid_column": null,
      "grid_gap": null,
      "grid_row": null,
      "grid_template_areas": null,
      "grid_template_columns": null,
      "grid_template_rows": null,
      "height": null,
      "justify_content": null,
      "justify_items": null,
      "left": null,
      "margin": null,
      "max_height": null,
      "max_width": null,
      "min_height": null,
      "min_width": null,
      "object_fit": null,
      "object_position": null,
      "order": null,
      "overflow": null,
      "overflow_x": null,
      "overflow_y": null,
      "padding": null,
      "right": null,
      "top": null,
      "visibility": null,
      "width": "100%"
     }
    },
    "3e3f936918e1400c9e8a5b93e1396d2c": {
     "model_module": "@jupyter-widgets/base",
     "model_module_version": "1.2.0",
     "model_name": "LayoutModel",
     "state": {
      "_model_module": "@jupyter-widgets/base",
      "_model_module_version": "1.2.0",
      "_model_name": "LayoutModel",
      "_view_count": null,
      "_view_module": "@jupyter-widgets/base",
      "_view_module_version": "1.2.0",
      "_view_name": "LayoutView",
      "align_content": null,
      "align_items": null,
      "align_self": null,
      "border": null,
      "bottom": null,
      "display": null,
      "flex": null,
      "flex_flow": null,
      "grid_area": null,
      "grid_auto_columns": null,
      "grid_auto_flow": null,
      "grid_auto_rows": null,
      "grid_column": null,
      "grid_gap": null,
      "grid_row": null,
      "grid_template_areas": null,
      "grid_template_columns": null,
      "grid_template_rows": null,
      "height": null,
      "justify_content": null,
      "justify_items": null,
      "left": null,
      "margin": null,
      "max_height": null,
      "max_width": null,
      "min_height": null,
      "min_width": null,
      "object_fit": null,
      "object_position": null,
      "order": null,
      "overflow": null,
      "overflow_x": null,
      "overflow_y": null,
      "padding": null,
      "right": null,
      "top": null,
      "visibility": null,
      "width": null
     }
    },
    "447e3cdd35b74ab3afc9bd0da2d3a5c7": {
     "model_module": "@jupyter-widgets/base",
     "model_module_version": "1.2.0",
     "model_name": "LayoutModel",
     "state": {
      "_model_module": "@jupyter-widgets/base",
      "_model_module_version": "1.2.0",
      "_model_name": "LayoutModel",
      "_view_count": null,
      "_view_module": "@jupyter-widgets/base",
      "_view_module_version": "1.2.0",
      "_view_name": "LayoutView",
      "align_content": null,
      "align_items": null,
      "align_self": null,
      "border": null,
      "bottom": null,
      "display": null,
      "flex": null,
      "flex_flow": null,
      "grid_area": null,
      "grid_auto_columns": null,
      "grid_auto_flow": null,
      "grid_auto_rows": null,
      "grid_column": null,
      "grid_gap": null,
      "grid_row": null,
      "grid_template_areas": null,
      "grid_template_columns": null,
      "grid_template_rows": null,
      "height": null,
      "justify_content": null,
      "justify_items": null,
      "left": null,
      "margin": null,
      "max_height": null,
      "max_width": null,
      "min_height": null,
      "min_width": null,
      "object_fit": null,
      "object_position": null,
      "order": null,
      "overflow": null,
      "overflow_x": null,
      "overflow_y": null,
      "padding": null,
      "right": null,
      "top": null,
      "visibility": null,
      "width": null
     }
    },
    "7de24e9998af4f5bb515409ab0f33c9b": {
     "model_module": "@jupyter-widgets/controls",
     "model_module_version": "1.5.0",
     "model_name": "HTMLModel",
     "state": {
      "_dom_classes": [],
      "_model_module": "@jupyter-widgets/controls",
      "_model_module_version": "1.5.0",
      "_model_name": "HTMLModel",
      "_view_count": null,
      "_view_module": "@jupyter-widgets/controls",
      "_view_module_version": "1.5.0",
      "_view_name": "HTMLView",
      "description": "",
      "description_tooltip": null,
      "layout": "IPY_MODEL_3e3f936918e1400c9e8a5b93e1396d2c",
      "placeholder": "​",
      "style": "IPY_MODEL_e802b91b6f5a4f04b284c592d82c50a0",
      "value": " 0/2 [00:00&lt;?, ?it/s]"
     }
    },
    "9831bac7d8de463ca7bfeae8a1210b7e": {
     "model_module": "@jupyter-widgets/controls",
     "model_module_version": "1.5.0",
     "model_name": "HTMLModel",
     "state": {
      "_dom_classes": [],
      "_model_module": "@jupyter-widgets/controls",
      "_model_module_version": "1.5.0",
      "_model_name": "HTMLModel",
      "_view_count": null,
      "_view_module": "@jupyter-widgets/controls",
      "_view_module_version": "1.5.0",
      "_view_name": "HTMLView",
      "description": "",
      "description_tooltip": null,
      "layout": "IPY_MODEL_447e3cdd35b74ab3afc9bd0da2d3a5c7",
      "placeholder": "​",
      "style": "IPY_MODEL_c056b2af805d4a279e1f597938230838",
      "value": "Sanity Checking DataLoader 0:   0%"
     }
    },
    "c056b2af805d4a279e1f597938230838": {
     "model_module": "@jupyter-widgets/controls",
     "model_module_version": "1.5.0",
     "model_name": "DescriptionStyleModel",
     "state": {
      "_model_module": "@jupyter-widgets/controls",
      "_model_module_version": "1.5.0",
      "_model_name": "DescriptionStyleModel",
      "_view_count": null,
      "_view_module": "@jupyter-widgets/base",
      "_view_module_version": "1.2.0",
      "_view_name": "StyleView",
      "description_width": ""
     }
    },
    "cce2910ed1c543be9b2a90c8b9483da4": {
     "model_module": "@jupyter-widgets/controls",
     "model_module_version": "1.5.0",
     "model_name": "HBoxModel",
     "state": {
      "_dom_classes": [],
      "_model_module": "@jupyter-widgets/controls",
      "_model_module_version": "1.5.0",
      "_model_name": "HBoxModel",
      "_view_count": null,
      "_view_module": "@jupyter-widgets/controls",
      "_view_module_version": "1.5.0",
      "_view_name": "HBoxView",
      "box_style": "",
      "children": [
       "IPY_MODEL_9831bac7d8de463ca7bfeae8a1210b7e",
       "IPY_MODEL_fde30a38b8624541aa9891eb89e1b731",
       "IPY_MODEL_7de24e9998af4f5bb515409ab0f33c9b"
      ],
      "layout": "IPY_MODEL_0d2b2a977cbd4e718d34cea0c5b377ad"
     }
    },
    "d3810aa0d19b4d12899e4b5ee2d8df6c": {
     "model_module": "@jupyter-widgets/controls",
     "model_module_version": "1.5.0",
     "model_name": "ProgressStyleModel",
     "state": {
      "_model_module": "@jupyter-widgets/controls",
      "_model_module_version": "1.5.0",
      "_model_name": "ProgressStyleModel",
      "_view_count": null,
      "_view_module": "@jupyter-widgets/base",
      "_view_module_version": "1.2.0",
      "_view_name": "StyleView",
      "bar_color": null,
      "description_width": ""
     }
    },
    "ddfe9b8f3ea94ed9a46da0092cb6bdb5": {
     "model_module": "@jupyter-widgets/base",
     "model_module_version": "1.2.0",
     "model_name": "LayoutModel",
     "state": {
      "_model_module": "@jupyter-widgets/base",
      "_model_module_version": "1.2.0",
      "_model_name": "LayoutModel",
      "_view_count": null,
      "_view_module": "@jupyter-widgets/base",
      "_view_module_version": "1.2.0",
      "_view_name": "LayoutView",
      "align_content": null,
      "align_items": null,
      "align_self": null,
      "border": null,
      "bottom": null,
      "display": null,
      "flex": "2",
      "flex_flow": null,
      "grid_area": null,
      "grid_auto_columns": null,
      "grid_auto_flow": null,
      "grid_auto_rows": null,
      "grid_column": null,
      "grid_gap": null,
      "grid_row": null,
      "grid_template_areas": null,
      "grid_template_columns": null,
      "grid_template_rows": null,
      "height": null,
      "justify_content": null,
      "justify_items": null,
      "left": null,
      "margin": null,
      "max_height": null,
      "max_width": null,
      "min_height": null,
      "min_width": null,
      "object_fit": null,
      "object_position": null,
      "order": null,
      "overflow": null,
      "overflow_x": null,
      "overflow_y": null,
      "padding": null,
      "right": null,
      "top": null,
      "visibility": null,
      "width": null
     }
    },
    "e802b91b6f5a4f04b284c592d82c50a0": {
     "model_module": "@jupyter-widgets/controls",
     "model_module_version": "1.5.0",
     "model_name": "DescriptionStyleModel",
     "state": {
      "_model_module": "@jupyter-widgets/controls",
      "_model_module_version": "1.5.0",
      "_model_name": "DescriptionStyleModel",
      "_view_count": null,
      "_view_module": "@jupyter-widgets/base",
      "_view_module_version": "1.2.0",
      "_view_name": "StyleView",
      "description_width": ""
     }
    },
    "fde30a38b8624541aa9891eb89e1b731": {
     "model_module": "@jupyter-widgets/controls",
     "model_module_version": "1.5.0",
     "model_name": "FloatProgressModel",
     "state": {
      "_dom_classes": [],
      "_model_module": "@jupyter-widgets/controls",
      "_model_module_version": "1.5.0",
      "_model_name": "FloatProgressModel",
      "_view_count": null,
      "_view_module": "@jupyter-widgets/controls",
      "_view_module_version": "1.5.0",
      "_view_name": "ProgressView",
      "bar_style": "",
      "description": "",
      "description_tooltip": null,
      "layout": "IPY_MODEL_ddfe9b8f3ea94ed9a46da0092cb6bdb5",
      "max": 2,
      "min": 0,
      "orientation": "horizontal",
      "style": "IPY_MODEL_d3810aa0d19b4d12899e4b5ee2d8df6c",
      "value": 0
     }
    }
   }
  }
 },
 "nbformat": 4,
 "nbformat_minor": 5
}
